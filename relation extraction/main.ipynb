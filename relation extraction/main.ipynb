{
 "cells": [
  {
   "cell_type": "markdown",
   "metadata": {
    "id": "bThWkHhH1ekO"
   },
   "source": [
    "# **基于GPLinker的关系抽取实现**\n",
    "\n"
   ]
  },
  {
   "cell_type": "markdown",
   "metadata": {
    "id": "F4fDT16Wx1qA"
   },
   "source": [
    "## **训练前准备**"
   ]
  },
  {
   "cell_type": "markdown",
   "metadata": {
    "id": "fev9oLcU9ShS"
   },
   "source": [
    "### 环境准备\n",
    "安装tranformer包"
   ]
  },
  {
   "cell_type": "code",
   "execution_count": null,
   "metadata": {
    "colab": {
     "base_uri": "https://localhost:8080/"
    },
    "id": "pRqvJqm-xx92",
    "outputId": "ac6bc587-2647-4338-de86-b4b6614170ed"
   },
   "outputs": [],
   "source": [
    "! pip install transformers"
   ]
  },
  {
   "cell_type": "markdown",
   "metadata": {
    "id": "4W4o_iVs9rYl"
   },
   "source": [
    "### 预训练模型下载\n",
    "\n",
    "[RoBERTa中文预训练模型](https://drive.google.com/file/d/1yK_P8VhWZtdgzaG0gJ3zUGOKWODitKXZ/view)\n",
    "\n",
    "将下载后的文件解压放入`./RoBERTa_zh_Large_PyTorch`文件夹。\n",
    "\n",
    "注：也可修改`config.ini`中的路径，自行设置模型的存储位置。"
   ]
  },
  {
   "cell_type": "markdown",
   "metadata": {
    "id": "30ItFdAcyBMn"
   },
   "source": [
    "## **训练**"
   ]
  },
  {
   "cell_type": "markdown",
   "metadata": {
    "id": "M8W_OMNryGOG"
   },
   "source": [
    "导入所需的包或模块。"
   ]
  },
  {
   "cell_type": "code",
   "execution_count": 4,
   "metadata": {
    "id": "llSEEc3Pydcl"
   },
   "outputs": [],
   "source": [
    "import torch\n",
    "import json\n",
    "import configparser\n",
    "import numpy as np\n",
    "from tqdm import tqdm\n",
    "from zmq import device\n",
    "from GPLinker import sparse_multilabel_categorical_crossentropy, GPLinker\n",
    "from transformers import BertTokenizerFast, BertModel\n",
    "from utils.data_loader import data_generator, load_name\n",
    "from utils.bert_optimization import BertAdam\n",
    "from torch.utils.data import DataLoader"
   ]
  },
  {
   "cell_type": "markdown",
   "metadata": {
    "id": "dbIbDsLRykdP"
   },
   "source": [
    "读取config文件，获得数据集、预训练模型的路径及模型参数等信息。"
   ]
  },
  {
   "cell_type": "code",
   "execution_count": 5,
   "metadata": {
    "colab": {
     "base_uri": "https://localhost:8080/"
    },
    "id": "97tHAno5yfxD",
    "outputId": "f204e1c0-51ed-49ee-9d05-9be557e5f2e2"
   },
   "outputs": [
    {
     "name": "stdout",
     "output_type": "stream",
     "text": [
      "========paths========\n",
      "model_path : ./RoBERTa_zh_Large_PyTorch\n",
      "train_file : ./datasets/CMeIE_train.json\n",
      "val_file : ./datasets/CMeIE_dev.json\n",
      "test_file : ./datasets/CMeIE_test.json\n",
      "schema_data : ./datasets/53_schemas.json\n",
      "========para========\n",
      "maxlen : 256\n",
      "batch_size : 10\n",
      "epochs : 20\n",
      "head_size : 64\n"
     ]
    }
   ],
   "source": [
    "con = configparser.ConfigParser()\n",
    "con.read('./config.ini', encoding='utf8')\n",
    "args_path = dict(dict(con.items('paths')), **dict(con.items(\"para\"))) # 存储路径\n",
    "print(\"========paths========\")\n",
    "for i in con.items('paths'):\n",
    "  print(i[0],\":\",i[1])\n",
    "print(\"========para========\")\n",
    "for i in con.items('para'):\n",
    "  print(i[0],\":\",i[1])"
   ]
  },
  {
   "cell_type": "markdown",
   "metadata": {
    "id": "fqmXcTMsy3UN"
   },
   "source": [
    "导入预训练的RoBERTa模型，加载分词器、编码器。"
   ]
  },
  {
   "cell_type": "code",
   "execution_count": null,
   "metadata": {
    "colab": {
     "base_uri": "https://localhost:8080/"
    },
    "id": "ufp0SmOuzHYq",
    "outputId": "9fd2e992-dff0-4cbd-9276-1cacb282621d"
   },
   "outputs": [],
   "source": [
    "tokenizer = BertTokenizerFast.from_pretrained(args_path[\"model_path\"], do_lower_case = True) #do_lower_case:区分大小写\n",
    "encoder = BertModel.from_pretrained(args_path[\"model_path\"])"
   ]
  },
  {
   "cell_type": "markdown",
   "metadata": {
    "id": "2IO33VzCzKqv"
   },
   "source": [
    "读入关系。"
   ]
  },
  {
   "cell_type": "code",
   "execution_count": 7,
   "metadata": {
    "colab": {
     "base_uri": "https://localhost:8080/"
    },
    "id": "08AQeM47zL95",
    "outputId": "65a56bd7-a4b1-4227-d79f-877b4c9b63ff"
   },
   "outputs": [
    {
     "name": "stdout",
     "output_type": "stream",
     "text": [
      "len_schema: 53\n"
     ]
    }
   ],
   "source": [
    "with open(args_path[\"schema_data\"],'r',encoding='utf-8') as f:\n",
    "    schema = {} # 关系字典，键为关系，值为序号\n",
    "    for idx,item in enumerate(f):\n",
    "    # enumerate() 函数用于将一个可遍历的数据对象(如列表、元组或字符串)组合为一个索引序列，同时列出数据和数据下标，一般用在 for 循环当中。e.g. for i, element in enumerate(seq):  print i, element\n",
    "        item = json.loads(item.rstrip()) \n",
    "        schema[item[\"subject_type\"]+\"_\"+item[\"predicate\"]+\"_\"+item[\"object_type\"]] = idx\n",
    "print(\"len_schema:\",len(schema))"
   ]
  },
  {
   "cell_type": "markdown",
   "metadata": {
    "id": "oW0BGNWgzOv2"
   },
   "source": [
    "引入训练集、验证集，并对数据进行编码，设置迭代器。"
   ]
  },
  {
   "cell_type": "code",
   "execution_count": 8,
   "metadata": {
    "colab": {
     "base_uri": "https://localhost:8080/"
    },
    "id": "EHu6eAR9zWaa",
    "outputId": "0266129b-7b26-4104-ccd3-ea2fa6edf714"
   },
   "outputs": [
    {
     "name": "stdout",
     "output_type": "stream",
     "text": [
      "size of training set: 14339\n",
      "size of validation set: 2008\n",
      "size of test set: 1577\n"
     ]
    }
   ],
   "source": [
    "train_data = data_generator(load_name(args_path[\"train_file\"]),tokenizer=tokenizer,max_len=con.getint(\"para\",\"maxlen\"),schema=schema)\n",
    "val_data = data_generator(load_name(args_path[\"val_file\"]),tokenizer=tokenizer,max_len=con.getint(\"para\",\"maxlen\"),schema=schema)\n",
    "test_data = data_generator(load_name(args_path[\"test_file\"]),tokenizer=tokenizer,max_len=con.getint(\"para\",\"maxlen\"),schema=schema)\n",
    "train_loader = DataLoader(train_data,batch_size=con.getint(\"para\",\"batch_size\"),shuffle=True, collate_fn=train_data.collate) #collate_fn：mini-batch生成方式\n",
    "print(\"size of training set:\", len(train_data))\n",
    "print(\"size of validation set:\", len(val_data))\n",
    "print(\"size of test set:\", len(test_data))"
   ]
  },
  {
   "cell_type": "markdown",
   "metadata": {
    "id": "HGiLTXwYz04h"
   },
   "source": [
    "采用Hugging Face的Bert Adam优化器，并设置：\n",
    "*   部分参数的权重衰减为$0.01$\n",
    "*   学习率为$2e^{-5}$\n",
    "*   学习率预热为$0.1$\n",
    "*   梯度裁剪为$1$（默认值）"
   ]
  },
  {
   "cell_type": "code",
   "execution_count": 9,
   "metadata": {
    "id": "mZONJ1nczyMF"
   },
   "outputs": [],
   "source": [
    "def set_optimizer(model, train_steps = None):\n",
    "    param_optimizer = list(model.named_parameters())\n",
    "    param_optimizer = [n for n in param_optimizer if 'pooler' not in n[0]]\n",
    "    no_decay = ['bias','LayerNorm.bias','LayerNorm.weight']\n",
    "    optimizer_grouped_parameters=[\n",
    "        {\n",
    "            'params':[p for n,p in param_optimizer if not any(nd in n for nd in no_decay)],\n",
    "            'weight_decay':0.01\n",
    "        },\n",
    "        {\n",
    "            'params':[p for n,p in param_optimizer if any(nd in n for nd in no_decay)],\n",
    "            'weight_decay':0.0\n",
    "        }\n",
    "    ]\n",
    "    optimizer = BertAdam(optimizer_grouped_parameters, lr=2e-5, warmup=0.1, t_total=train_steps)\n",
    "    return optimizer"
   ]
  },
  {
   "cell_type": "markdown",
   "metadata": {
    "id": "CKQcZUqHzoGj"
   },
   "source": [
    "实例化网络、优化器。"
   ]
  },
  {
   "cell_type": "code",
   "execution_count": 10,
   "metadata": {
    "id": "KY3TT3_ozpZR"
   },
   "outputs": [],
   "source": [
    "device = torch.device(\"cuda\" if torch.cuda.is_available() else \"cpu\") # 调用cpu/gpu\n",
    "net = GPLinker(encoder,len(schema)).to(device)\n",
    "total_train_steps = (int(len(train_data)/con.getint(\"para\",\"batch_size\"))+1)*con.getint(\"para\",\"epochs\")\n",
    "optimizer = set_optimizer(net,train_steps=total_train_steps)"
   ]
  },
  {
   "cell_type": "markdown",
   "metadata": {
    "id": "paFncp3Dzrjj"
   },
   "source": [
    "引入进度条，可视化训练过程。"
   ]
  },
  {
   "cell_type": "code",
   "execution_count": 9,
   "metadata": {
    "colab": {
     "base_uri": "https://localhost:8080/"
    },
    "id": "KRxRLQWfztpn",
    "outputId": "af6a0f78-141d-4b50-c153-bc09df49f1b5"
   },
   "outputs": [
    {
     "name": "stderr",
     "output_type": "stream",
     "text": [
      "  0%|          | 0/28680 [00:00<?, ?it/s]"
     ]
    }
   ],
   "source": [
    "pbar = tqdm(total = total_train_steps)"
   ]
  },
  {
   "cell_type": "markdown",
   "metadata": {
    "id": "6M2Mw0toz9qH"
   },
   "source": [
    "定义训练时需要用的函数。"
   ]
  },
  {
   "cell_type": "code",
   "execution_count": 10,
   "metadata": {
    "id": "QyOPuPGxz8op"
   },
   "outputs": [],
   "source": [
    "# 计算损失\n",
    "def loss_calculator(logits1,logits2,logits3,batch_entity_labels,batch_head_labels,batch_tail_labels):\n",
    "    # 根据评分，计算损失\n",
    "    loss1 = sparse_multilabel_categorical_crossentropy(y_true=batch_entity_labels, y_pred=logits1, mask_zero=True)\n",
    "    loss2 = sparse_multilabel_categorical_crossentropy(y_true=batch_head_labels,y_pred=logits2,mask_zero=True)\n",
    "    loss3 = sparse_multilabel_categorical_crossentropy(y_true=batch_tail_labels,y_pred=logits3,mask_zero=True)\n",
    "    loss = sum([loss1, loss2, loss3])/3\n",
    "    return loss\n",
    "\n",
    "# 推理，得出评分矩阵\n",
    "def predict(net, batch):\n",
    "    # 将经过Bert编码的一个batch读入\n",
    "    text, batch_token_ids, batch_mask_ids,  batch_entity_labels, batch_head_labels, batch_tail_labels = batch\n",
    "    # 将需要计算的数据to device\n",
    "    batch_token_ids, batch_mask_ids,  batch_entity_labels, batch_head_labels, batch_tail_labels = \\\n",
    "        batch_token_ids.to(device), batch_mask_ids.to(device).to(\n",
    "            device), batch_entity_labels.to(device), batch_head_labels.to(device), batch_tail_labels.to(device)\n",
    "    # 计算评分\n",
    "    logits1,logits2,logits3 = net(batch_token_ids,batch_mask_ids)\n",
    "    return logits1,logits2,logits3,batch_entity_labels,batch_head_labels,batch_tail_labels"
   ]
  },
  {
   "cell_type": "markdown",
   "metadata": {
    "id": "4K8lr7TV0J-y"
   },
   "source": [
    "### 开始训练"
   ]
  },
  {
   "cell_type": "code",
   "execution_count": 11,
   "metadata": {
    "id": "E55BZJ1r0LHD"
   },
   "outputs": [
    {
     "name": "stderr",
     "output_type": "stream",
     "text": [
      "/root/utils/bert_optimization.py:307: UserWarning: This overload of add_ is deprecated:\n",
      "\tadd_(Number alpha, Tensor other)\n",
      "Consider using one of the following signatures instead:\n",
      "\tadd_(Tensor other, *, Number alpha) (Triggered internally at  /pytorch/torch/csrc/utils/python_arg_parser.cpp:1025.)\n",
      "  next_m.mul_(beta1).add_(1 - beta1, grad)\n",
      "[EPOCH 19/20] [LOSS:0.070520]: 100%|██████████| 28680/28680 [2:56:21<00:00,  2.60it/s]    "
     ]
    }
   ],
   "source": [
    "tot_loss = []\n",
    "for epoch in range(con.getint(\"para\",\"epochs\")):\n",
    "    for idx, batch in enumerate(train_loader):\n",
    "        net.train() \n",
    "        logits1,logits2,logits3,batch_entity_labels,batch_head_labels,batch_tail_labels = predict(net,batch) # 计算评分 \n",
    "        loss = loss_calculator(logits1,logits2,logits3,batch_entity_labels,batch_head_labels,batch_tail_labels) #计算损失\n",
    "        optimizer.zero_grad() # 清空梯度\n",
    "        loss.backward() # 反向求导，计算梯度\n",
    "        optimizer.step() # 对参数进行更新\n",
    "        pbar.set_description(\"[EPOCH %d/%d] [LOSS:%f]\" %(epoch, con.getint(\"para\", \"epochs\"), loss.item()))\n",
    "        pbar.update(1)\n",
    "    tot_loss.append(loss)\n",
    "    torch.save(net.state_dict(), 'result/GPLinker_para.pth')"
   ]
  },
  {
   "cell_type": "code",
   "execution_count": 33,
   "metadata": {},
   "outputs": [
    {
     "data": {
      "image/png": "[encoded data removed]",
      "text/plain": [
       "<Figure size 432x288 with 1 Axes>"
      ]
     },
     "metadata": {
      "needs_background": "light"
     },
     "output_type": "display_data"
    }
   ],
   "source": [
    "import matplotlib.pyplot as plt\n",
    "b=[]\n",
    "for i in range(len(tot_loss)):\n",
    "    if  i % 1434 == 0:\n",
    "        b.append(np.array(int(tot_loss[i])))\n",
    "c = np.array(b)\n",
    "x = np.arange(0,20,1)\n",
    "y = np.array(c)\n",
    "my_x_ticks = np.arange(20)\n",
    "plt.xticks(my_x_ticks)\n",
    "plt.plot(x,y)\n",
    "plt.xlabel(\"Number of batches\")\n",
    "plt.ylabel(\"Loss\")\n",
    "plt.title(\"Loss in iterations\")\n",
    "plt.show()"
   ]
  },
  {
   "cell_type": "markdown",
   "metadata": {
    "id": "KSskdtDb3P8y"
   },
   "source": [
    "## **效果评估** \n",
    "采用**F1-measure**的方式计算。\n",
    "\n",
    "其中，\n",
    "$$precision=\\frac{TP}{TP+FP}$$\n",
    "$$recall=\\frac{TP}{TP+FN}$$\n",
    "$$F1-measure = \\frac{2\\cdot precision\\cdot recall}{precision+recall}$$"
   ]
  },
  {
   "cell_type": "markdown",
   "metadata": {
    "id": "EreCjEFG52x8"
   },
   "source": [
    "### 相关函数定义"
   ]
  },
  {
   "cell_type": "markdown",
   "metadata": {
    "id": "5oJbklQy568P"
   },
   "source": [
    "查找$[h,t]$是否在列表lists中，用于后续的计算。"
   ]
  },
  {
   "cell_type": "code",
   "execution_count": 11,
   "metadata": {
    "id": "hfSy5D9_51Qw"
   },
   "outputs": [],
   "source": [
    "def search_list(h,t,lists):\n",
    "    exist = False\n",
    "    for s,e in lists:\n",
    "        if s == h and t == e:\n",
    "            exist = True\n",
    "            break\n",
    "    return exist"
   ]
  },
  {
   "cell_type": "markdown",
   "metadata": {
    "id": "-rCZR-Uu6KG0"
   },
   "source": [
    "根据评分结果，提取出**subject**和**object**。"
   ]
  },
  {
   "cell_type": "code",
   "execution_count": 12,
   "metadata": {
    "id": "_FVQ3Cib6KuD"
   },
   "outputs": [],
   "source": [
    "def find_s_o(outputs):\n",
    "  subjects, objects = set(), set()\n",
    "  outputs[0][:,[0,-1]] -= np.inf\n",
    "  outputs[0][:,:,[0,-1]] -= np.inf\n",
    "  for l, h, t in zip(*np.where(outputs[0] > 0)):\n",
    "      if l == 0:\n",
    "          subjects.add((h,t))\n",
    "      else:\n",
    "          objects.add((h,t))\n",
    "  return subjects,objects"
   ]
  },
  {
   "cell_type": "markdown",
   "metadata": {
    "id": "wLNovZJS6Tid"
   },
   "source": [
    "将预测结果转为GPlinker标签对应的形式，即**entity**、**head**、**tail**。\n",
    "\n",
    " \n",
    "1.   **entity**：形状为$[2\\times n \\times 2]$，entity[0]为subject，entity[1]为object\n",
    "2.   **head**：形状为$[\\text{len(schema)}\\times n \\times 2]$，存储subject和object的head下标\n",
    "3.   **tail**：形状为$[\\text{len(schema)}\\times n \\times 2]$，存储subject和object的tail下标\n",
    "\n"
   ]
  },
  {
   "cell_type": "code",
   "execution_count": 13,
   "metadata": {
    "id": "sdZLjGwA7Ngm"
   },
   "outputs": [],
   "source": [
    "def pred_result(subjects, objects, outputs):\n",
    "  # 遍历subject、object的head和tail组合，如果对应关系得分大于0，则为预测结果。\n",
    "  pred_head = [ []  for i in range(len(schema)) ]\n",
    "  pred_tail = [ []  for i in range(len(schema)) ]\n",
    "  pred_entity = [[] for i in range(2)]\n",
    "  for s_h, s_t in subjects:\n",
    "      for o_h, o_t in objects:\n",
    "          p1s = np.where(outputs[1][:, s_h, o_h] > 0)[0]\n",
    "          p2s = np.where(outputs[2][:, s_t, o_t] > 0)[0]\n",
    "          ps = set(p1s) & set(p2s)\n",
    "          for p in ps:\n",
    "              if not search_list(s_h,o_h,pred_head[p]):\n",
    "                  pred_head[p].append([s_h,o_h])\n",
    "              if not search_list(s_t,o_t,pred_tail[p]):\n",
    "                  pred_tail[p].append([s_t,o_t])\n",
    "              if not search_list(s_h,s_t,pred_entity[0]):\n",
    "                  pred_entity[0].append([s_h,s_t])\n",
    "              if not search_list(o_h,o_t,pred_entity[1]):\n",
    "                  pred_entity[1].append([o_h,o_t])\n",
    "  return pred_head,pred_tail,pred_entity"
   ]
  },
  {
   "cell_type": "markdown",
   "metadata": {
    "id": "0UDyzFWX6BB-"
   },
   "source": [
    "分别求出**TP**、**TP+FP** 或 **TP+FN**。"
   ]
  },
  {
   "cell_type": "code",
   "execution_count": 14,
   "metadata": {
    "id": "_XjYJLYR55d2"
   },
   "outputs": [],
   "source": [
    "def calculate_acc(entity,head,tail,head_com,tail_com,leng,true,total):\n",
    "    subjects = entity[0]\n",
    "    objects = entity[1]\n",
    "    for s_h, s_t in subjects:\n",
    "        for o_h, o_t in objects:\n",
    "            for p in range(leng):\n",
    "                if search_list(s_h,o_h,head[p]) and search_list(s_t,o_t,tail[p]):\n",
    "                    total = total + 1\n",
    "                    if search_list(s_h,o_h,head_com[p]) and search_list(s_t,o_t,tail_com[p]):\n",
    "                        true = true + 1\n",
    "    return true,total"
   ]
  },
  {
   "cell_type": "markdown",
   "metadata": {
    "id": "y-uhQr6s7nj9"
   },
   "source": [
    "定义评估函数。"
   ]
  },
  {
   "cell_type": "code",
   "execution_count": 15,
   "metadata": {
    "id": "mzKj6bQX7myF"
   },
   "outputs": [],
   "source": [
    "def evaluate_F1(net,data):\n",
    "    net.load_state_dict(torch.load('result/GPLinker_para.pth'))\n",
    "    net.eval()\n",
    "    data_loader = DataLoader(data,collate_fn=data.collate)\n",
    "    with torch.no_grad():\n",
    "        true1, true2, prediction, label= 0,0,0,0\n",
    "        for idx, item in enumerate(data_loader):\n",
    "            # 推理\n",
    "            text, input_ids, attention_mask, entity_labels, head_labels, tail_labels = item\n",
    "            input_ids, attention_mask= input_ids.clone().detach().to(device), attention_mask.clone().detach().to(device)\n",
    "            entity_labels ,head_labels,tail_labels = entity_labels.squeeze(0),head_labels.squeeze(0),tail_labels.squeeze(0)\n",
    "            scores = net(input_ids,attention_mask)\n",
    "            outputs = [o.squeeze(0).cpu().numpy() for o in scores]\n",
    "            # 找出subject、object\n",
    "            subjects, objects = find_s_o(outputs)\n",
    "            # 提取出预测结果\n",
    "            pred_head, pred_tail, pred_entity = pred_result(subjects, objects, outputs)\n",
    "            true1, prediction= calculate_acc(pred_entity,pred_head,pred_tail,head_labels,tail_labels,len(schema),true1,prediction)\n",
    "            true2, label = calculate_acc(entity_labels,head_labels,tail_labels,pred_head,pred_tail,len(schema),true2, label)\n",
    "        precision = true1/prediction\n",
    "        recall = true2/label\n",
    "        F1 = 2 * precision * recall/float(precision+recall)\n",
    "        print(\"number of labels:\", label)\n",
    "        print(\"precision:\", precision)\n",
    "        print(\"recall：\", recall)\n",
    "        print(\"F1-measure：\", F1)\n",
    "    return F1"
   ]
  },
  {
   "cell_type": "markdown",
   "metadata": {
    "id": "d6xt2npk-eUF"
   },
   "source": [
    "### **开始评估**"
   ]
  },
  {
   "cell_type": "code",
   "execution_count": 19,
   "metadata": {
    "colab": {
     "base_uri": "https://localhost:8080/",
     "height": 410
    },
    "id": "ocm7kBtT92eX",
    "outputId": "80db1030-79c1-45e8-9836-a196e592ffb6"
   },
   "outputs": [
    {
     "name": "stdout",
     "output_type": "stream",
     "text": [
      "======training set======\n",
      "number of labels: 44006\n",
      "precision: 0.9731675837239318\n",
      "recall 0.976366859064673\n",
      "F1-measure 0.9747645963155961\n"
     ]
    },
    {
     "data": {
      "text/plain": [
       "0.9747645963155961"
      ]
     },
     "execution_count": 19,
     "metadata": {},
     "output_type": "execute_result"
    }
   ],
   "source": [
    "print(\"======training set======\")\n",
    "evaluate_F1(net,train_data)"
   ]
  },
  {
   "cell_type": "code",
   "execution_count": 17,
   "metadata": {},
   "outputs": [
    {
     "name": "stdout",
     "output_type": "stream",
     "text": [
      "======validation set======\n",
      "number of labels: 6020\n",
      "precision: 0.6506153023006955\n",
      "recall 0.6064784053156146\n",
      "F1-measure 0.6277720246670699\n"
     ]
    },
    {
     "data": {
      "text/plain": [
       "0.6277720246670699"
      ]
     },
     "execution_count": 17,
     "metadata": {},
     "output_type": "execute_result"
    }
   ],
   "source": [
    "print(\"======validation set======\")\n",
    "evaluate_F1(net,val_data)"
   ]
  },
  {
   "cell_type": "code",
   "execution_count": 18,
   "metadata": {},
   "outputs": [
    {
     "name": "stdout",
     "output_type": "stream",
     "text": [
      "======test set======\n",
      "number of labels: 4641\n",
      "precision: 0.661178107606679\n",
      "recall 0.6147382029734971\n",
      "F1-measure 0.6371130117942115\n"
     ]
    },
    {
     "data": {
      "text/plain": [
       "0.6371130117942115"
      ]
     },
     "execution_count": 18,
     "metadata": {},
     "output_type": "execute_result"
    }
   ],
   "source": [
    "print(\"======test set======\")\n",
    "evaluate_F1(net,test_data)"
   ]
  }
 ],
 "metadata": {
  "colab": {
   "collapsed_sections": [],
   "name": "main.ipynb",
   "provenance": [],
   "toc_visible": true
  },
  "kernelspec": {
   "display_name": "Python 3.9.7 ('base')",
   "language": "python",
   "name": "python3"
  },
  "language_info": {
   "codemirror_mode": {
    "name": "ipython",
    "version": 3
   },
   "file_extension": ".py",
   "mimetype": "text/x-python",
   "name": "python",
   "nbconvert_exporter": "python",
   "pygments_lexer": "ipython3",
   "version": "3.9.7"
  },
  "vscode": {
   "interpreter": {
    "hash": "b09ec625f77bf4fd762565a912b97636504ad6ec901eb2d0f4cf5a7de23e1ee5"
   }
  }
 },
 "nbformat": 4,
 "nbformat_minor": 4
}
